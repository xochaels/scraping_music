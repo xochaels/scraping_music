{
 "cells": [
  {
   "cell_type": "markdown",
   "metadata": {},
   "source": [
    "# Scraping Data from sound cloud\n",
    "- get information top 50 songs"
   ]
  },
  {
   "cell_type": "code",
   "execution_count": 1,
   "metadata": {},
   "outputs": [],
   "source": [
    "import pandas as pd\n",
    "import numpy as np\n",
    "import requests\n",
    "from bs4 import BeautifulSoup\n",
    "from selenium import webdriver\n",
    "from selenium.webdriver.edge.options import Options\n",
    "import re"
   ]
  },
  {
   "cell_type": "code",
   "execution_count": 2,
   "metadata": {},
   "outputs": [],
   "source": [
    "pd.options.display.max_colwidth = 100"
   ]
  },
  {
   "cell_type": "markdown",
   "metadata": {},
   "source": [
    "# Download webpages"
   ]
  },
  {
   "cell_type": "code",
   "execution_count": 3,
   "metadata": {},
   "outputs": [],
   "source": [
    "link_resso = ('https://www.resso.com/in/charts/Resso-Top-50-6987661844371298306')\n",
    "path = ('D:\\edgedriver_win64\\msedgedriver.exe')\n",
    "\n",
    "edge_options = Options()\n",
    "\n",
    "driver = webdriver.Edge(executable_path= path)\n",
    "driver.get(link_resso)"
   ]
  },
  {
   "cell_type": "code",
   "execution_count": 4,
   "metadata": {},
   "outputs": [],
   "source": [
    "get_html = driver.execute_script('return document.getElementsByTagName(\"html\")[0].innerHTML')\n",
    "doc = BeautifulSoup(get_html, 'html.parser')"
   ]
  },
  {
   "cell_type": "markdown",
   "metadata": {},
   "source": [
    "# Get list of resso choice songs "
   ]
  },
  {
   "cell_type": "code",
   "execution_count": 5,
   "metadata": {},
   "outputs": [],
   "source": [
    "get_sugesstion = doc.find_all('a', class_ = 'charts-desktop-left-name')"
   ]
  },
  {
   "cell_type": "code",
   "execution_count": 6,
   "metadata": {},
   "outputs": [
    {
     "data": {
      "text/plain": [
       "[<a class=\"charts-desktop-left-name active\" href=\"https://www.resso.com/chart/Resso-Top-50-6987661844371298306\">Resso Top 50</a>,\n",
       " <a class=\"charts-desktop-left-name\" href=\"https://www.resso.com/chart/Indian-Indie-Hot-30-6791728389653927937\">Indian Indie Hot 30</a>,\n",
       " <a class=\"charts-desktop-left-name\" href=\"https://www.resso.com/chart/Hindi-New-Release-Hot-30-6837385119465003009\">Hindi New Release Hot 30</a>,\n",
       " <a class=\"charts-desktop-left-name\" href=\"https://www.resso.com/chart/Hindi-Top-30-6714527091393566733\">Hindi Top 30</a>,\n",
       " <a class=\"charts-desktop-left-name\" href=\"https://www.resso.com/chart/Indian-Pop-Top-30-6850358415128516609\">Indian Pop Top 30</a>]"
      ]
     },
     "execution_count": 6,
     "metadata": {},
     "output_type": "execute_result"
    }
   ],
   "source": [
    "get_sugesstion[:5]"
   ]
  },
  {
   "cell_type": "code",
   "execution_count": 7,
   "metadata": {},
   "outputs": [
    {
     "data": {
      "text/plain": [
       "'Resso Top 50'"
      ]
     },
     "execution_count": 7,
     "metadata": {},
     "output_type": "execute_result"
    }
   ],
   "source": [
    "get_sugesstion[0].text"
   ]
  },
  {
   "cell_type": "code",
   "execution_count": 8,
   "metadata": {},
   "outputs": [],
   "source": [
    "def list_of_recomendation(url):\n",
    "    main_web = {'title_resso_choice' : [], 'link_resso_choice' : []}\n",
    "\n",
    "    get_sugesstion = url.find_all('a', class_ = 'charts-desktop-left-name', href=True)\n",
    "    for title in get_sugesstion:\n",
    "        title_recomendation = main_web['title_resso_choice'].append(title.text)\n",
    "        link_recomendation = main_web['link_resso_choice'].append(title['href'])\n",
    "    return pd.DataFrame(main_web)"
   ]
  },
  {
   "cell_type": "code",
   "execution_count": 9,
   "metadata": {},
   "outputs": [],
   "source": [
    "list_resso_recom = list_of_recomendation(doc)"
   ]
  },
  {
   "cell_type": "code",
   "execution_count": 10,
   "metadata": {},
   "outputs": [
    {
     "data": {
      "text/html": [
       "<div>\n",
       "<style scoped>\n",
       "    .dataframe tbody tr th:only-of-type {\n",
       "        vertical-align: middle;\n",
       "    }\n",
       "\n",
       "    .dataframe tbody tr th {\n",
       "        vertical-align: top;\n",
       "    }\n",
       "\n",
       "    .dataframe thead th {\n",
       "        text-align: right;\n",
       "    }\n",
       "</style>\n",
       "<table border=\"1\" class=\"dataframe\">\n",
       "  <thead>\n",
       "    <tr style=\"text-align: right;\">\n",
       "      <th></th>\n",
       "      <th>title_resso_choice</th>\n",
       "      <th>link_resso_choice</th>\n",
       "    </tr>\n",
       "  </thead>\n",
       "  <tbody>\n",
       "    <tr>\n",
       "      <th>0</th>\n",
       "      <td>Resso Top 50</td>\n",
       "      <td>https://www.resso.com/chart/Resso-Top-50-6987661844371298306</td>\n",
       "    </tr>\n",
       "    <tr>\n",
       "      <th>1</th>\n",
       "      <td>Indian Indie Hot 30</td>\n",
       "      <td>https://www.resso.com/chart/Indian-Indie-Hot-30-6791728389653927937</td>\n",
       "    </tr>\n",
       "    <tr>\n",
       "      <th>2</th>\n",
       "      <td>Hindi New Release Hot 30</td>\n",
       "      <td>https://www.resso.com/chart/Hindi-New-Release-Hot-30-6837385119465003009</td>\n",
       "    </tr>\n",
       "    <tr>\n",
       "      <th>3</th>\n",
       "      <td>Hindi Top 30</td>\n",
       "      <td>https://www.resso.com/chart/Hindi-Top-30-6714527091393566733</td>\n",
       "    </tr>\n",
       "    <tr>\n",
       "      <th>4</th>\n",
       "      <td>Indian Pop Top 30</td>\n",
       "      <td>https://www.resso.com/chart/Indian-Pop-Top-30-6850358415128516609</td>\n",
       "    </tr>\n",
       "  </tbody>\n",
       "</table>\n",
       "</div>"
      ],
      "text/plain": [
       "         title_resso_choice  \\\n",
       "0              Resso Top 50   \n",
       "1       Indian Indie Hot 30   \n",
       "2  Hindi New Release Hot 30   \n",
       "3              Hindi Top 30   \n",
       "4         Indian Pop Top 30   \n",
       "\n",
       "                                                          link_resso_choice  \n",
       "0              https://www.resso.com/chart/Resso-Top-50-6987661844371298306  \n",
       "1       https://www.resso.com/chart/Indian-Indie-Hot-30-6791728389653927937  \n",
       "2  https://www.resso.com/chart/Hindi-New-Release-Hot-30-6837385119465003009  \n",
       "3              https://www.resso.com/chart/Hindi-Top-30-6714527091393566733  \n",
       "4         https://www.resso.com/chart/Indian-Pop-Top-30-6850358415128516609  "
      ]
     },
     "execution_count": 10,
     "metadata": {},
     "output_type": "execute_result"
    }
   ],
   "source": [
    "list_resso_recom.head(5)"
   ]
  },
  {
   "cell_type": "code",
   "execution_count": 11,
   "metadata": {},
   "outputs": [
    {
     "name": "stderr",
     "output_type": "stream",
     "text": [
      "C:\\Users\\rafae\\AppData\\Local\\Temp\\ipykernel_13320\\4013920797.py:1: FutureWarning: The default value of regex will change from True to False in a future version.\n",
      "  list_resso_recom['link_resso_choice'] = list_resso_recom['link_resso_choice'].str.replace(\n"
     ]
    }
   ],
   "source": [
    "list_resso_recom['link_resso_choice'] = list_resso_recom['link_resso_choice'].str.replace(\n",
    "    'https://www.resso.com/chart', 'https://www.resso.com/in/charts')"
   ]
  },
  {
   "cell_type": "code",
   "execution_count": 12,
   "metadata": {},
   "outputs": [
    {
     "data": {
      "text/html": [
       "<div>\n",
       "<style scoped>\n",
       "    .dataframe tbody tr th:only-of-type {\n",
       "        vertical-align: middle;\n",
       "    }\n",
       "\n",
       "    .dataframe tbody tr th {\n",
       "        vertical-align: top;\n",
       "    }\n",
       "\n",
       "    .dataframe thead th {\n",
       "        text-align: right;\n",
       "    }\n",
       "</style>\n",
       "<table border=\"1\" class=\"dataframe\">\n",
       "  <thead>\n",
       "    <tr style=\"text-align: right;\">\n",
       "      <th></th>\n",
       "      <th>title_resso_choice</th>\n",
       "      <th>link_resso_choice</th>\n",
       "    </tr>\n",
       "  </thead>\n",
       "  <tbody>\n",
       "    <tr>\n",
       "      <th>0</th>\n",
       "      <td>Resso Top 50</td>\n",
       "      <td>https://www.resso.com/in/charts/Resso-Top-50-6987661844371298306</td>\n",
       "    </tr>\n",
       "    <tr>\n",
       "      <th>1</th>\n",
       "      <td>Indian Indie Hot 30</td>\n",
       "      <td>https://www.resso.com/in/charts/Indian-Indie-Hot-30-6791728389653927937</td>\n",
       "    </tr>\n",
       "    <tr>\n",
       "      <th>2</th>\n",
       "      <td>Hindi New Release Hot 30</td>\n",
       "      <td>https://www.resso.com/in/charts/Hindi-New-Release-Hot-30-6837385119465003009</td>\n",
       "    </tr>\n",
       "    <tr>\n",
       "      <th>3</th>\n",
       "      <td>Hindi Top 30</td>\n",
       "      <td>https://www.resso.com/in/charts/Hindi-Top-30-6714527091393566733</td>\n",
       "    </tr>\n",
       "    <tr>\n",
       "      <th>4</th>\n",
       "      <td>Indian Pop Top 30</td>\n",
       "      <td>https://www.resso.com/in/charts/Indian-Pop-Top-30-6850358415128516609</td>\n",
       "    </tr>\n",
       "  </tbody>\n",
       "</table>\n",
       "</div>"
      ],
      "text/plain": [
       "         title_resso_choice  \\\n",
       "0              Resso Top 50   \n",
       "1       Indian Indie Hot 30   \n",
       "2  Hindi New Release Hot 30   \n",
       "3              Hindi Top 30   \n",
       "4         Indian Pop Top 30   \n",
       "\n",
       "                                                              link_resso_choice  \n",
       "0              https://www.resso.com/in/charts/Resso-Top-50-6987661844371298306  \n",
       "1       https://www.resso.com/in/charts/Indian-Indie-Hot-30-6791728389653927937  \n",
       "2  https://www.resso.com/in/charts/Hindi-New-Release-Hot-30-6837385119465003009  \n",
       "3              https://www.resso.com/in/charts/Hindi-Top-30-6714527091393566733  \n",
       "4         https://www.resso.com/in/charts/Indian-Pop-Top-30-6850358415128516609  "
      ]
     },
     "execution_count": 12,
     "metadata": {},
     "output_type": "execute_result"
    }
   ],
   "source": [
    "list_resso_recom.head(5)"
   ]
  },
  {
   "cell_type": "markdown",
   "metadata": {},
   "source": [
    "# Find All song from topic song resso"
   ]
  },
  {
   "cell_type": "markdown",
   "metadata": {},
   "source": [
    "## Test get Url and title of songs"
   ]
  },
  {
   "cell_type": "code",
   "execution_count": 31,
   "metadata": {},
   "outputs": [],
   "source": [
    "test2 = list_resso_recom['link_resso_choice'][0]\n",
    "path = ('D:\\edgedriver_win64\\msedgedriver.exe')\n",
    "\n",
    "edge_options = Options()\n",
    "\n",
    "driver_test2 = webdriver.Edge(executable_path= path)\n",
    "driver_test2.get(test2)"
   ]
  },
  {
   "cell_type": "code",
   "execution_count": 33,
   "metadata": {},
   "outputs": [],
   "source": [
    "get_html_test2 = driver_test2.execute_script('return document.getElementsByTagName(\"html\")[0].innerHTML')\n",
    "test2_doc = BeautifulSoup(get_html_test2, 'html.parser')"
   ]
  },
  {
   "cell_type": "code",
   "execution_count": 35,
   "metadata": {},
   "outputs": [
    {
     "name": "stdout",
     "output_type": "stream",
     "text": [
      "Pritam, Arijit Singh, Amitabh Bhattacharya\n",
      "Shae Gill, Ali Sethi\n",
      "Sidhu Moose Wala\n",
      "Shubh\n",
      "Sidhu Moose Wala\n",
      "Harry Styles\n",
      "Sidhu Moose Wala\n",
      "Aditya A\n",
      "Ankit Tiwari, Manoj Muntashir\n",
      "BTS\n",
      "Gurinder Gill, Intense, AP Dhillon\n",
      "Anirudh, Kamal Haasan\n",
      "Charlie Puth, Jung Kook, BTS\n",
      "Sidhu Moose Wala, Sunny Malton\n",
      "Ali Zafar,Yousaf Sallauddin,Coke Studio\n",
      "Anirudh, Jonita Gandhi\n",
      "Diljit Dosanjh\n",
      "Pritam, Tanishk Bagchi, Neeraj Shridhar, Mellow D\n",
      "AP Dhillon, Gurinder Gill\n",
      "Bohemia, Sidhu Moose Wala\n",
      "Payal Dev, Badshah\n",
      "Ananya Bhat\n",
      "Sidhu Moose Wala, Sunny Malton\n",
      "KING\n",
      "Sachet-Parampara, Sachet Tandon\n",
      "Anirudh\n",
      "Arijit Singh, Manan Bhardwaj\n",
      "Glass Animals\n",
      "Javed Ali , Devi Sri Prasad\n",
      "AP Dhillon, Gurinder Gill\n",
      "Tanishk Bagchi, Jubin Nautiyal, Asees Kaur\n",
      "Anirudh\n",
      "OAFF, Savera, Lothika, Kausar Munir\n",
      "Ed Sheeran\n",
      "Indravathi Chauhan\n",
      "Jasleen Royal, B Praak, Romy, Anvita Dutt\n",
      "K. K.\n",
      "Afsana Khan, Jaani\n",
      "King\n",
      "Pritam, Arijit Singh, Amitabh Bhattacharya\n",
      "Sean Paul, Dua Lipa\n",
      "Arijit Singh, Tulsi Kumar\n",
      "B Praak\n",
      "Sunidhi Chauhan, Devi Sri Prasad\n",
      "The Kid LAROI, Justin Bieber\n",
      "Yasser Desai, Neha Kakkar, Rajat Nagpal\n",
      "Neeti Mohan, Sanjay Leela Bhansali\n",
      "AP Dhillon, Shinda Kahlon, Gurinder Gill, Gminxr\n",
      "Ckay\n",
      "Alka Yagnik, Arijit Singh\n"
     ]
    }
   ],
   "source": [
    "for a in test2_doc.find_all('div', class_='artist-list small-artist'):\n",
    "    print(a.text)"
   ]
  },
  {
   "cell_type": "code",
   "execution_count": 21,
   "metadata": {},
   "outputs": [
    {
     "name": "stdout",
     "output_type": "stream",
     "text": [
      "Akhiyaan Mitraz Akhiyaan 03:12\n",
      "Aankhon Se Batana Dikshant Aankhon Se Batana 03:41\n",
      "Baarish Aa Jaave Mitraz Baarish Aa Jaave 02:38\n",
      "Chaand Baaliyan Aditya A Chaand Baaliyan 01:43\n",
      "Aziyat Pratyush Dhiman Aziyat 03:37\n",
      "Tu Kahaan - 1 Min Music OAFF,  Tu Kahaan - 1 Min Music 01:00\n",
      "Rangi Saari Kavita Seth,  Rangi Saari 03:34\n",
      "Raaz Tera Mera Akanksha Sethi Raaz Tera Mera 03:29\n",
      "Chidiya Vilen Chidiya 04:13\n",
      "Baarishein Anuv Jain Baarishein 03:27\n",
      "Alag Aasmaan Anuv Jain Alag Aasmaan 03:33\n",
      "Baarish Ka Asar Twin Strings Baarish Ka Asar 04:06\n",
      "Waqt Ki Baatein Dream Note Waqt Ki Baatein - Single 04:03\n",
      "Woh Din Yash Bafna Woh Din 04:18\n",
      "Tuta Pull Wahan Deepak Rathore Project Tuta Pull Wahan 05:13\n",
      "Tera Nishaan Pina Colada Blues,  Tera Nishaan 02:47\n",
      "Chhodo Kalaiya Aditya A,  Chhodo Kalaiya 03:11\n",
      "Intezaar Lucky Ali Intezaar 03:56\n",
      "Tum Ho Meri Jaan Dhruv Kapoor Tum Ho Meri Jaan 03:12\n",
      "kyun hota hai? Tanmaya Bhatnagar kyun hota hai? 03:30\n",
      "Dil Dream Note Dil 03:08\n",
      "Haaye Pina Colada Blues,  Haaye 02:59\n",
      "Mehfooz Aaditya Rakheja Mehfooz 04:16\n",
      "Aahista Ankur Tewari Aahista 03:49\n",
      "Katputli Ke Dhaage Himonshu Parikh,  Katputli Ke Dhaage 02:54\n",
      "Sajni The Yellow Diary Sajni 04:58\n",
      "Shehron Ke Raaz Prateek Kuhad Shehron Ke Raaz 02:32\n",
      "Baaraat Ritviz,  Baaraat 03:42\n",
      "Tere Hi Hum Prateek Kuhad Tere Hi Hum 02:57\n",
      "Udd Gaye Ritviz Ved 03:00\n"
     ]
    }
   ],
   "source": [
    "track_tags = test2_doc.find_all('div', class_='charts-track')\n",
    "\n",
    "for song in track_tags:\n",
    "    track_title = song.find('a', class_='track-info-title').text\n",
    "    artist_list = song.find('a', class_='artist-title').text\n",
    "    album_title = song.find('a', class_='album-title').text\n",
    "    duration = song.find('div', class_='track-duration').text\n",
    "    print(track_title, artist_list, album_title, duration)"
   ]
  },
  {
   "cell_type": "markdown",
   "metadata": {},
   "source": [
    "## Build Function"
   ]
  },
  {
   "cell_type": "code",
   "execution_count": 20,
   "metadata": {},
   "outputs": [],
   "source": [
    "def get_html_page(url_page):\n",
    "    path = ('D:\\edgedriver_win64\\msedgedriver.exe')\n",
    "\n",
    "    edge_options = Options()\n",
    "\n",
    "    driver = webdriver.Edge(executable_path= path)\n",
    "    driver.get(url_page)\n",
    "\n",
    "    get_html = driver.execute_script('return document.getElementsByTagName(\"html\")[0].innerHTML')\n",
    "    doc = BeautifulSoup(get_html, 'html.parser')\n",
    "    return doc"
   ]
  },
  {
   "cell_type": "code",
   "execution_count": 64,
   "metadata": {},
   "outputs": [],
   "source": [
    "songs = {'track_title':[], 'artist':[], 'album_title':[], 'duration':[], 'genre':[]}"
   ]
  },
  {
   "cell_type": "code",
   "execution_count": 65,
   "metadata": {},
   "outputs": [],
   "source": [
    "def get_track_info(doc):\n",
    "    \n",
    "    genre_tag = doc.find('a', class_='charts-desktop-left-name active').text\n",
    "\n",
    "    track_tags = doc.find_all('div', class_='charts-track')\n",
    "\n",
    "    for song in track_tags:\n",
    "        track_title = song.find('a', class_='track-info-title').text\n",
    "        album_title = song.find('a', class_='album-title').text\n",
    "        duration = song.find('div', class_='track-duration').text\n",
    "        songs['track_title'].append(track_title)\n",
    "        songs['album_title'].append(album_title)\n",
    "        songs['duration'].append(duration)\n",
    "        songs['genre'].append(genre_tag)\n",
    "    for a in doc.find_all('div', class_='artist-list small-artist'):\n",
    "        artist_list = a.text\n",
    "        songs['artist'].append(artist_list)\n",
    "        \n",
    "    return pd.DataFrame(songs)"
   ]
  },
  {
   "cell_type": "markdown",
   "metadata": {},
   "source": [
    "## Test Function"
   ]
  },
  {
   "cell_type": "code",
   "execution_count": 42,
   "metadata": {},
   "outputs": [],
   "source": [
    "test3 = get_track_info(get_html_page(list_resso_recom['link_resso_choice'][0])).head(5)"
   ]
  },
  {
   "cell_type": "code",
   "execution_count": 43,
   "metadata": {},
   "outputs": [
    {
     "data": {
      "text/html": [
       "<div>\n",
       "<style scoped>\n",
       "    .dataframe tbody tr th:only-of-type {\n",
       "        vertical-align: middle;\n",
       "    }\n",
       "\n",
       "    .dataframe tbody tr th {\n",
       "        vertical-align: top;\n",
       "    }\n",
       "\n",
       "    .dataframe thead th {\n",
       "        text-align: right;\n",
       "    }\n",
       "</style>\n",
       "<table border=\"1\" class=\"dataframe\">\n",
       "  <thead>\n",
       "    <tr style=\"text-align: right;\">\n",
       "      <th></th>\n",
       "      <th>track_title</th>\n",
       "      <th>artist</th>\n",
       "      <th>album_title</th>\n",
       "      <th>duration</th>\n",
       "      <th>genre</th>\n",
       "    </tr>\n",
       "  </thead>\n",
       "  <tbody>\n",
       "    <tr>\n",
       "      <th>0</th>\n",
       "      <td>Kesariya (From \"Brahmastra\")</td>\n",
       "      <td>Pritam, Arijit Singh, Amitabh Bhattacharya</td>\n",
       "      <td>Kesariya (From \"Brahmastra\")</td>\n",
       "      <td>04:28</td>\n",
       "      <td>Resso Top 50</td>\n",
       "    </tr>\n",
       "    <tr>\n",
       "      <th>1</th>\n",
       "      <td>Pasoori</td>\n",
       "      <td>Shae Gill, Ali Sethi</td>\n",
       "      <td>Pasoori</td>\n",
       "      <td>03:44</td>\n",
       "      <td>Resso Top 50</td>\n",
       "    </tr>\n",
       "    <tr>\n",
       "      <th>2</th>\n",
       "      <td>295</td>\n",
       "      <td>Sidhu Moose Wala</td>\n",
       "      <td>Moosetape</td>\n",
       "      <td>04:30</td>\n",
       "      <td>Resso Top 50</td>\n",
       "    </tr>\n",
       "    <tr>\n",
       "      <th>3</th>\n",
       "      <td>NO LOVE</td>\n",
       "      <td>Shubh</td>\n",
       "      <td>NO LOVE</td>\n",
       "      <td>02:50</td>\n",
       "      <td>Resso Top 50</td>\n",
       "    </tr>\n",
       "    <tr>\n",
       "      <th>4</th>\n",
       "      <td>The Last Ride</td>\n",
       "      <td>Sidhu Moose Wala</td>\n",
       "      <td>The Last Ride</td>\n",
       "      <td>04:22</td>\n",
       "      <td>Resso Top 50</td>\n",
       "    </tr>\n",
       "  </tbody>\n",
       "</table>\n",
       "</div>"
      ],
      "text/plain": [
       "                    track_title                                      artist  \\\n",
       "0  Kesariya (From \"Brahmastra\")  Pritam, Arijit Singh, Amitabh Bhattacharya   \n",
       "1                       Pasoori                        Shae Gill, Ali Sethi   \n",
       "2                           295                            Sidhu Moose Wala   \n",
       "3                       NO LOVE                                       Shubh   \n",
       "4                 The Last Ride                            Sidhu Moose Wala   \n",
       "\n",
       "                    album_title duration         genre  \n",
       "0  Kesariya (From \"Brahmastra\")    04:28  Resso Top 50  \n",
       "1                       Pasoori    03:44  Resso Top 50  \n",
       "2                     Moosetape    04:30  Resso Top 50  \n",
       "3                       NO LOVE    02:50  Resso Top 50  \n",
       "4                 The Last Ride    04:22  Resso Top 50  "
      ]
     },
     "execution_count": 43,
     "metadata": {},
     "output_type": "execute_result"
    }
   ],
   "source": [
    "test3.head(5)"
   ]
  },
  {
   "cell_type": "code",
   "execution_count": 44,
   "metadata": {},
   "outputs": [
    {
     "data": {
      "text/plain": [
       "0    Pritam, Arijit Singh, Amitabh Bhattacharya\n",
       "1                          Shae Gill, Ali Sethi\n",
       "2                              Sidhu Moose Wala\n",
       "3                                         Shubh\n",
       "4                              Sidhu Moose Wala\n",
       "Name: artist, dtype: object"
      ]
     },
     "execution_count": 44,
     "metadata": {},
     "output_type": "execute_result"
    }
   ],
   "source": [
    "test3['artist'].head()"
   ]
  },
  {
   "cell_type": "markdown",
   "metadata": {},
   "source": [
    "## Apply Function"
   ]
  },
  {
   "cell_type": "code",
   "execution_count": 66,
   "metadata": {},
   "outputs": [],
   "source": [
    "for genre in range(len(list_resso_recom)):\n",
    "    top_songs_resso = get_track_info(get_html_page(list_resso_recom['link_resso_choice'][genre]))"
   ]
  },
  {
   "cell_type": "code",
   "execution_count": 73,
   "metadata": {},
   "outputs": [
    {
     "data": {
      "text/html": [
       "<div>\n",
       "<style scoped>\n",
       "    .dataframe tbody tr th:only-of-type {\n",
       "        vertical-align: middle;\n",
       "    }\n",
       "\n",
       "    .dataframe tbody tr th {\n",
       "        vertical-align: top;\n",
       "    }\n",
       "\n",
       "    .dataframe thead th {\n",
       "        text-align: right;\n",
       "    }\n",
       "</style>\n",
       "<table border=\"1\" class=\"dataframe\">\n",
       "  <thead>\n",
       "    <tr style=\"text-align: right;\">\n",
       "      <th></th>\n",
       "      <th>track_title</th>\n",
       "      <th>artist</th>\n",
       "      <th>album_title</th>\n",
       "      <th>duration</th>\n",
       "      <th>genre</th>\n",
       "    </tr>\n",
       "  </thead>\n",
       "  <tbody>\n",
       "    <tr>\n",
       "      <th>0</th>\n",
       "      <td>Kesariya (From \"Brahmastra\")</td>\n",
       "      <td>Pritam, Arijit Singh, Amitabh Bhattacharya</td>\n",
       "      <td>Kesariya (From \"Brahmastra\")</td>\n",
       "      <td>04:28</td>\n",
       "      <td>Resso Top 50</td>\n",
       "    </tr>\n",
       "    <tr>\n",
       "      <th>1</th>\n",
       "      <td>Pasoori</td>\n",
       "      <td>Shae Gill, Ali Sethi</td>\n",
       "      <td>Pasoori</td>\n",
       "      <td>03:44</td>\n",
       "      <td>Resso Top 50</td>\n",
       "    </tr>\n",
       "    <tr>\n",
       "      <th>2</th>\n",
       "      <td>295</td>\n",
       "      <td>Sidhu Moose Wala</td>\n",
       "      <td>Moosetape</td>\n",
       "      <td>04:30</td>\n",
       "      <td>Resso Top 50</td>\n",
       "    </tr>\n",
       "    <tr>\n",
       "      <th>3</th>\n",
       "      <td>NO LOVE</td>\n",
       "      <td>Shubh</td>\n",
       "      <td>NO LOVE</td>\n",
       "      <td>02:50</td>\n",
       "      <td>Resso Top 50</td>\n",
       "    </tr>\n",
       "    <tr>\n",
       "      <th>4</th>\n",
       "      <td>The Last Ride</td>\n",
       "      <td>Sidhu Moose Wala</td>\n",
       "      <td>The Last Ride</td>\n",
       "      <td>04:22</td>\n",
       "      <td>Resso Top 50</td>\n",
       "    </tr>\n",
       "  </tbody>\n",
       "</table>\n",
       "</div>"
      ],
      "text/plain": [
       "                    track_title                                      artist  \\\n",
       "0  Kesariya (From \"Brahmastra\")  Pritam, Arijit Singh, Amitabh Bhattacharya   \n",
       "1                       Pasoori                        Shae Gill, Ali Sethi   \n",
       "2                           295                            Sidhu Moose Wala   \n",
       "3                       NO LOVE                                       Shubh   \n",
       "4                 The Last Ride                            Sidhu Moose Wala   \n",
       "\n",
       "                    album_title duration         genre  \n",
       "0  Kesariya (From \"Brahmastra\")    04:28  Resso Top 50  \n",
       "1                       Pasoori    03:44  Resso Top 50  \n",
       "2                     Moosetape    04:30  Resso Top 50  \n",
       "3                       NO LOVE    02:50  Resso Top 50  \n",
       "4                 The Last Ride    04:22  Resso Top 50  "
      ]
     },
     "execution_count": 73,
     "metadata": {},
     "output_type": "execute_result"
    }
   ],
   "source": [
    "top_songs_resso.head()"
   ]
  },
  {
   "cell_type": "code",
   "execution_count": 74,
   "metadata": {},
   "outputs": [
    {
     "data": {
      "text/plain": [
       "(830, 5)"
      ]
     },
     "execution_count": 74,
     "metadata": {},
     "output_type": "execute_result"
    }
   ],
   "source": [
    "top_songs_resso.shape"
   ]
  },
  {
   "cell_type": "code",
   "execution_count": 69,
   "metadata": {},
   "outputs": [
    {
     "data": {
      "text/plain": [
       "track_title    0\n",
       "artist         0\n",
       "album_title    0\n",
       "duration       0\n",
       "genre          0\n",
       "dtype: int64"
      ]
     },
     "execution_count": 69,
     "metadata": {},
     "output_type": "execute_result"
    }
   ],
   "source": [
    "top_songs_resso.isna().sum()"
   ]
  },
  {
   "cell_type": "markdown",
   "metadata": {},
   "source": [
    "Make into csv file and save it"
   ]
  },
  {
   "cell_type": "code",
   "execution_count": 77,
   "metadata": {},
   "outputs": [],
   "source": [
    "import os  \n",
    "os.makedirs(\"D:\\Dataset\\csv\", exist_ok=True)  \n",
    "top_songs_resso.to_csv(\"D:\\Dataset\\csv\\data_top_resso_song.csv\")"
   ]
  },
  {
   "cell_type": "code",
   "execution_count": 76,
   "metadata": {},
   "outputs": [],
   "source": [
    "top_songs_resso.to_csv('data_top_resso_song.csv', encoding='utf-8', index=False)"
   ]
  }
 ],
 "metadata": {
  "kernelspec": {
   "display_name": "Python 3.9.12 ('base')",
   "language": "python",
   "name": "python3"
  },
  "language_info": {
   "codemirror_mode": {
    "name": "ipython",
    "version": 3
   },
   "file_extension": ".py",
   "mimetype": "text/x-python",
   "name": "python",
   "nbconvert_exporter": "python",
   "pygments_lexer": "ipython3",
   "version": "3.9.12"
  },
  "orig_nbformat": 4,
  "vscode": {
   "interpreter": {
    "hash": "5321d52f472d9d44fe580412eb4884ad344a6c2d5efe9a2fa6eec8e499dc231d"
   }
  }
 },
 "nbformat": 4,
 "nbformat_minor": 2
}
